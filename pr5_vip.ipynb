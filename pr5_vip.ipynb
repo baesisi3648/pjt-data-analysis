{
 "cells": [
  {
   "cell_type": "code",
   "execution_count": 1,
   "id": "2db70810",
   "metadata": {},
   "outputs": [
    {
     "name": "stdout",
     "output_type": "stream",
     "text": [
      "✅ 기본 세팅 완료\n"
     ]
    }
   ],
   "source": [
    "# [기본 세팅] ------------------------------------------------\n",
    "import numpy as np\n",
    "import pandas as pd\n",
    "import matplotlib.pyplot as plt\n",
    "import seaborn as sns \n",
    "from IPython.display import display\n",
    "\n",
    "import warnings\n",
    "warnings.filterwarnings('ignore', category=UserWarning)\n",
    "\n",
    "# 윈도우 한글 폰트 + 마이너스 표시 깨짐 방지\n",
    "plt.rcParams['font.family'] = 'Malgun Gothic'\n",
    "plt.rcParams['axes.unicode_minus'] = False\n",
    "\n",
    "# 표시에 도움되는 옵션 (너무 길게 줄바꿈되는 것 방지)\n",
    "pd.set_option(\"display.max_columns\", 120)\n",
    "pd.set_option(\"display.width\", 160)\n",
    "\n",
    "print(\"✅ 기본 세팅 완료\")"
   ]
  },
  {
   "cell_type": "code",
   "execution_count": 3,
   "id": "51dba3c2",
   "metadata": {},
   "outputs": [
    {
     "name": "stdout",
     "output_type": "stream",
     "text": [
      "✅ Restored all *_clean DataFrames\n"
     ]
    }
   ],
   "source": [
    "# === [번들에서 복원] ===\n",
    "import pickle\n",
    "\n",
    "BUNDLE_PATH = \"_snapshots/olist_clean_bundle.pkl\"\n",
    "\n",
    "with open(BUNDLE_PATH, \"rb\") as f:\n",
    "    bundle = pickle.load(f)\n",
    "\n",
    "# 변수로 바로 풀어서 사용\n",
    "orders_clean       = bundle[\"orders_clean\"]\n",
    "order_items_clean  = bundle[\"order_items_clean\"]\n",
    "payments_clean     = bundle[\"payments_clean\"]\n",
    "reviews_clean      = bundle[\"reviews_clean\"]\n",
    "customers_clean    = bundle[\"customers_clean\"]\n",
    "geolocation_clean  = bundle[\"geolocation_clean\"]\n",
    "products_clean     = bundle[\"products_clean\"]\n",
    "sellers_clean      = bundle[\"sellers_clean\"]\n",
    "category_tr_clean  = bundle[\"category_tr_clean\"]\n",
    "rfm =   bundle[\"rfm\"]\n",
    "\n",
    "print(\"✅ Restored all *_clean DataFrames\")"
   ]
  },
  {
   "cell_type": "code",
   "execution_count": null,
   "id": "9011c02f",
   "metadata": {},
   "outputs": [],
   "source": [
    "def _ensure_category_en(products_df, cat_tr_df=None):\n",
    "    \"\"\"products에 category_en 없으면 번역 테이블로 채우기(없으면 'unknown').\"\"\"\n",
    "    if \"category_en\" in products_df.columns:\n",
    "        return products_df\n",
    "    prod = products_df.copy()\n",
    "    if cat_tr_df is not None and \"product_category_name\" in prod.columns:\n",
    "        m = cat_tr_df.set_index(\"product_category_name\")[\"product_category_name_english\"].to_dict()\n",
    "        prod[\"category_en\"] = prod[\"product_category_name\"].map(m).fillna(\"unknown\")\n",
    "    else:\n",
    "        prod[\"category_en\"] = prod.get(\"product_category_name\", \"unknown\")\n",
    "    return prod\n",
    "\n",
    "# 번역 테이블이 있으면 활용\n",
    "products_clean = _ensure_category_en(\n",
    "    products_clean,\n",
    "    category_tr_clean if \"category_tr_clean\" in globals() else None\n",
    ")\n",
    "\n",
    "# 보기 좋은 색상\n",
    "_seg_colors = [\"#4E79A7\",\"#F28E2B\",\"#76B7B2\",\"#EDC948\",\"#E15759\"]\n"
   ]
  },
  {
   "cell_type": "code",
   "execution_count": 5,
   "id": "f65298ba",
   "metadata": {},
   "outputs": [],
   "source": [
    "# === S1) 트랜잭션 베이스 ===\n",
    "valid_status = [\"delivered\",\"invoiced\",\"shipped\",\"processing\",\"created\"]\n",
    "\n",
    "tx = (orders_clean[[\"order_id\",\"customer_id\",\"order_purchase_timestamp\",\"order_status\"]]\n",
    "      .merge(order_items_clean[[\"order_id\",\"product_id\",\"price\"]], on=\"order_id\", how=\"inner\")\n",
    "      .merge(products_clean[[\"product_id\",\"category_en\"]], on=\"product_id\", how=\"left\"))\n",
    "\n",
    "tx = tx[tx[\"order_status\"].isin(valid_status)].copy()\n",
    "tx[\"order_date\"]  = pd.to_datetime(tx[\"order_purchase_timestamp\"], errors=\"coerce\").dt.normalize()\n",
    "tx[\"order_month\"] = tx[\"order_date\"].dt.to_period(\"M\").dt.to_timestamp()\n",
    "tx[\"category_en\"] = tx[\"category_en\"].fillna(\"unknown\")\n",
    "tx[\"price\"] = pd.to_numeric(tx[\"price\"], errors=\"coerce\").fillna(0.0)"
   ]
  },
  {
   "cell_type": "code",
   "execution_count": null,
   "id": "6dea6ee8",
   "metadata": {},
   "outputs": [],
   "source": [
    "# === S2) RFM + 점수화 + 세그먼트 ===\n",
    "# 고객-주문-날짜 단위 집계(하루 여러 건은 1건으로 보려면 nunique로 충분)\n",
    "cust_ord = (tx.groupby([\"customer_id\",\"order_id\",\"order_date\"])[\"price\"]\n",
    "              .sum().reset_index())\n",
    "\n",
    "# 기준일: 데이터 내 마지막 주문일 / 같은 날=1일이 되도록 +1\n",
    "ref_date = cust_ord[\"order_date\"].max()\n",
    "\n",
    "# 고객별 R/F/M\n",
    "rfm = (cust_ord.groupby(\"customer_id\")\n",
    "       .agg(last_purchase=(\"order_date\",\"max\"),\n",
    "            frequency=(\"order_id\",\"nunique\"),\n",
    "            monetary=(\"price\",\"sum\"))\n",
    "       .reset_index())\n",
    "rfm[\"recency_days\"] = (ref_date - rfm[\"last_purchase\"]).dt.days + 1\n",
    "\n",
    "# 분위수 기반 점수(1~5). Recency는 작을수록(최근일수록) 좋은 점수.\n",
    "def quantile_score(series, n=5, higher_is_better=True):\n",
    "    s = series.fillna(series.median())\n",
    "    pct = s.rank(pct=True, method=\"average\")         # 0~1 백분위\n",
    "    score = np.ceil((pct if higher_is_better else (1-pct)) * n)\n",
    "    return score.astype(int).clip(1, n)\n",
    "\n",
    "rfm[\"r_score\"] = quantile_score(rfm[\"recency_days\"], n=5, higher_is_better=False)\n",
    "rfm[\"f_score\"] = quantile_score(rfm[\"frequency\"],   n=5, higher_is_better=True)\n",
    "rfm[\"m_score\"] = quantile_score(rfm[\"monetary\"],    n=5, higher_is_better=True)\n",
    "\n",
    "# 가중합 → 상위일수록 tier=1이 되도록 내림차순 퍼센타일 사용\n",
    "W_R, W_F, W_M = 0.40, 0.35, 0.25\n",
    "rfm[\"weighted_score\"] = rfm[\"r_score\"]*W_R + rfm[\"f_score\"]*W_F + rfm[\"m_score\"]*W_M\n",
    "\n",
    "pct_rank = rfm[\"weighted_score\"].rank(pct=True, ascending=False)  # 큰 값이 상위\n",
    "rfm[\"tier\"] = np.ceil(pct_rank * 5).astype(int).clip(1,5)\n",
    "\n",
    "# 티어→세그먼트 매핑\n",
    "tier_to_seg = {1:\"VVIP\", 2:\"VIP\", 3:\"고액고객\", 4:\"예비VIP\", 5:\"유망\"}\n",
    "rfm[\"segment\"] = rfm[\"tier\"].map(tier_to_seg)\n",
    "\n",
    "# 산출물 1\n",
    "rfm_customers = rfm.copy()\n"
   ]
  }
 ],
 "metadata": {
  "kernelspec": {
   "display_name": "venv",
   "language": "python",
   "name": "python3"
  },
  "language_info": {
   "codemirror_mode": {
    "name": "ipython",
    "version": 3
   },
   "file_extension": ".py",
   "mimetype": "text/x-python",
   "name": "python",
   "nbconvert_exporter": "python",
   "pygments_lexer": "ipython3",
   "version": "3.13.2"
  }
 },
 "nbformat": 4,
 "nbformat_minor": 5
}
